{
 "cells": [
  {
   "cell_type": "markdown",
   "metadata": {},
   "source": [
    "# The Battle of the Neighbourhoods – Week 1"
   ]
  },
  {
   "cell_type": "markdown",
   "metadata": {},
   "source": [
    "## Introduction"
   ]
  },
  {
   "cell_type": "markdown",
   "metadata": {},
   "source": [
    "Toronto is the most populous city in Canada and receives more and more new residents every year. This is due to a multitude of factors, including great schools and many job opportunities in diverse fields like healthcare, technology, and finance.\n",
    "\n",
    "North York is a city in the Toronto Metropolitan Area. It is a multicultural city with a high projected population growth over the next few years, due to job opportunities and great schools.\n",
    "\n",
    "This analysis aims to elucidate the best neighbourhoods in North York, to better serve the predicted population influx."
   ]
  }
 ],
 "metadata": {
  "kernelspec": {
   "display_name": "Python 3",
   "language": "python",
   "name": "python3"
  },
  "language_info": {
   "codemirror_mode": {
    "name": "ipython",
    "version": 3
   },
   "file_extension": ".py",
   "mimetype": "text/x-python",
   "name": "python",
   "nbconvert_exporter": "python",
   "pygments_lexer": "ipython3",
   "version": "3.8.3"
  }
 },
 "nbformat": 4,
 "nbformat_minor": 4
}
